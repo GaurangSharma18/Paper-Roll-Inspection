{
 "cells": [
  {
   "cell_type": "code",
   "execution_count": 1,
   "id": "b5fa6016",
   "metadata": {},
   "outputs": [],
   "source": [
    "import cv2\n",
    "import numpy as np\n",
    "\n",
    "import os\n",
    "import os.path as path\n",
    "import numpy as np\n",
    "import matplotlib.pyplot as plt\n",
    "import matplotlib.patches as patches\n",
    "import cv2\n",
    "import math\n",
    "\n",
    "import imageio\n",
    "import glob\n",
    "from skimage import io\n",
    "\n",
    "import albumentations as A\n",
    "import json\n",
    "import random\n",
    "import time\n",
    "from numpy import savez_compressed"
   ]
  },
  {
   "cell_type": "code",
   "execution_count": null,
   "id": "6ea81078",
   "metadata": {},
   "outputs": [],
   "source": [
    "radius = 0.1 \n",
    "sep = 0.45\n",
    "factor = 0.002\n",
    "for ind in range(1,2):\n",
    "    sep += 0.01\n",
    "    factor += 0.0005\n",
    "    img = cv2.imread('Train/fill/vid0_'+str(ind)+'.jpg')\n",
    "    img = img.astype('uint8')\n",
    "    #plt.imshow(img)\n",
    "    for rowCx in np.arange(0.5,16,sep):\n",
    "        for rowCy in np.arange(0.5,8,sep):\n",
    "            c1 = rowCx*33.4\n",
    "            c2 = rowCy*44.5\n",
    "            #c3 = c1 + \n",
    "            #c4 = (int(rowCx+2*radius),int(rowCy+2*radius))\n",
    "            color = (0,255,0)\n",
    "            img = cv2.circle(img, (int(c1),int(c2)), radius=0, color=(0, 0, 255), thickness=-1)\n",
    "            #img = cv2.rectangle(img,c1,c2,color,1)\n",
    "    #cv2.imshow(img)\n",
    "    cv2.imshow(\"lalala\", img)\n",
    "    cv2.waitKey(0) # 0==wait forever\n",
    "    #time.sleep(5)"
   ]
  },
  {
   "cell_type": "code",
   "execution_count": null,
   "id": "4ca01d32",
   "metadata": {},
   "outputs": [],
   "source": []
  },
  {
   "cell_type": "code",
   "execution_count": null,
   "id": "0107f1fe",
   "metadata": {},
   "outputs": [],
   "source": []
  },
  {
   "cell_type": "code",
   "execution_count": null,
   "id": "c31a4ab5",
   "metadata": {},
   "outputs": [],
   "source": []
  }
 ],
 "metadata": {
  "kernelspec": {
   "display_name": "Python 3 (ipykernel)",
   "language": "python",
   "name": "python3"
  },
  "language_info": {
   "codemirror_mode": {
    "name": "ipython",
    "version": 3
   },
   "file_extension": ".py",
   "mimetype": "text/x-python",
   "name": "python",
   "nbconvert_exporter": "python",
   "pygments_lexer": "ipython3",
   "version": "3.8.10"
  }
 },
 "nbformat": 4,
 "nbformat_minor": 5
}
